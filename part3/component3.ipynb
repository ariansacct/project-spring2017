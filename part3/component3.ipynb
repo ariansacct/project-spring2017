{
 "cells": [
  {
   "cell_type": "code",
   "execution_count": 2,
   "metadata": {
    "collapsed": true
   },
   "outputs": [],
   "source": [
    "import pandas as pd\n",
    "import matplotlib.pyplot as plt"
   ]
  },
  {
   "cell_type": "code",
   "execution_count": 4,
   "metadata": {
    "collapsed": false
   },
   "outputs": [
    {
     "data": {
      "text/html": [
       "<div>\n",
       "<table border=\"1\" class=\"dataframe\">\n",
       "  <thead>\n",
       "    <tr style=\"text-align: right;\">\n",
       "      <th></th>\n",
       "      <th>names</th>\n",
       "      <th>dates</th>\n",
       "      <th>latitude</th>\n",
       "      <th>longitude</th>\n",
       "      <th>categorical</th>\n",
       "      <th>quant1</th>\n",
       "      <th>quant2</th>\n",
       "      <th>quant3</th>\n",
       "    </tr>\n",
       "  </thead>\n",
       "  <tbody>\n",
       "    <tr>\n",
       "      <th>0</th>\n",
       "      <td>b'Rawad'</td>\n",
       "      <td>1.453009e+09</td>\n",
       "      <td>-19.988651</td>\n",
       "      <td>-41.435565</td>\n",
       "      <td>Category01</td>\n",
       "      <td>1.933239</td>\n",
       "      <td>6.052785</td>\n",
       "      <td>6105.123120</td>\n",
       "    </tr>\n",
       "    <tr>\n",
       "      <th>1</th>\n",
       "      <td>b'Eurma'</td>\n",
       "      <td>1.471779e+09</td>\n",
       "      <td>-8.593256</td>\n",
       "      <td>27.742604</td>\n",
       "      <td>Category00</td>\n",
       "      <td>1.520733</td>\n",
       "      <td>-11.065076</td>\n",
       "      <td>143.902725</td>\n",
       "    </tr>\n",
       "    <tr>\n",
       "      <th>2</th>\n",
       "      <td>b'Taleia'</td>\n",
       "      <td>1.473613e+09</td>\n",
       "      <td>-67.463164</td>\n",
       "      <td>-109.366796</td>\n",
       "      <td>Category04</td>\n",
       "      <td>1.863466</td>\n",
       "      <td>11.437340</td>\n",
       "      <td>2019.370225</td>\n",
       "    </tr>\n",
       "    <tr>\n",
       "      <th>3</th>\n",
       "      <td>b'Niley'</td>\n",
       "      <td>1.481194e+09</td>\n",
       "      <td>-7.537010</td>\n",
       "      <td>-32.218540</td>\n",
       "      <td>Category03</td>\n",
       "      <td>0.745431</td>\n",
       "      <td>19.415543</td>\n",
       "      <td>3225.920647</td>\n",
       "    </tr>\n",
       "    <tr>\n",
       "      <th>4</th>\n",
       "      <td>b'Acey'</td>\n",
       "      <td>1.454403e+09</td>\n",
       "      <td>-17.116866</td>\n",
       "      <td>2.949914</td>\n",
       "      <td>Category05</td>\n",
       "      <td>1.031100</td>\n",
       "      <td>17.714492</td>\n",
       "      <td>4976.099324</td>\n",
       "    </tr>\n",
       "  </tbody>\n",
       "</table>\n",
       "</div>"
      ],
      "text/plain": [
       "       names         dates   latitude   longitude categorical    quant1  \\\n",
       "0   b'Rawad'  1.453009e+09 -19.988651  -41.435565  Category01  1.933239   \n",
       "1   b'Eurma'  1.471779e+09  -8.593256   27.742604  Category00  1.520733   \n",
       "2  b'Taleia'  1.473613e+09 -67.463164 -109.366796  Category04  1.863466   \n",
       "3   b'Niley'  1.481194e+09  -7.537010  -32.218540  Category03  0.745431   \n",
       "4    b'Acey'  1.454403e+09 -17.116866    2.949914  Category05  1.031100   \n",
       "\n",
       "      quant2       quant3  \n",
       "0   6.052785  6105.123120  \n",
       "1 -11.065076   143.902725  \n",
       "2  11.437340  2019.370225  \n",
       "3  19.415543  3225.920647  \n",
       "4  17.714492  4976.099324  "
      ]
     },
     "execution_count": 4,
     "metadata": {},
     "output_type": "execute_result"
    }
   ],
   "source": [
    "sf = pd.read_csv(\"sample_flat.csv\")\n",
    "sf.head()"
   ]
  },
  {
   "cell_type": "code",
   "execution_count": 5,
   "metadata": {
    "collapsed": false
   },
   "outputs": [
    {
     "data": {
      "text/html": [
       "<div>\n",
       "<table border=\"1\" class=\"dataframe\">\n",
       "  <thead>\n",
       "    <tr style=\"text-align: right;\">\n",
       "      <th></th>\n",
       "      <th>dates</th>\n",
       "      <th>latitude</th>\n",
       "      <th>longitude</th>\n",
       "      <th>quant1</th>\n",
       "      <th>quant2</th>\n",
       "      <th>quant3</th>\n",
       "    </tr>\n",
       "  </thead>\n",
       "  <tbody>\n",
       "    <tr>\n",
       "      <th>count</th>\n",
       "      <td>1.000000e+04</td>\n",
       "      <td>10000.000000</td>\n",
       "      <td>10000.000000</td>\n",
       "      <td>10000.000000</td>\n",
       "      <td>10000.000000</td>\n",
       "      <td>10000.000000</td>\n",
       "    </tr>\n",
       "    <tr>\n",
       "      <th>mean</th>\n",
       "      <td>1.467361e+09</td>\n",
       "      <td>1.026321</td>\n",
       "      <td>-0.082380</td>\n",
       "      <td>1.737077</td>\n",
       "      <td>0.031580</td>\n",
       "      <td>4980.333493</td>\n",
       "    </tr>\n",
       "    <tr>\n",
       "      <th>std</th>\n",
       "      <td>9.141892e+06</td>\n",
       "      <td>51.545570</td>\n",
       "      <td>103.546299</td>\n",
       "      <td>1.012192</td>\n",
       "      <td>17.456411</td>\n",
       "      <td>2889.413452</td>\n",
       "    </tr>\n",
       "    <tr>\n",
       "      <th>min</th>\n",
       "      <td>1.451612e+09</td>\n",
       "      <td>-89.995631</td>\n",
       "      <td>-179.756945</td>\n",
       "      <td>0.001356</td>\n",
       "      <td>-29.979777</td>\n",
       "      <td>0.723583</td>\n",
       "    </tr>\n",
       "    <tr>\n",
       "      <th>25%</th>\n",
       "      <td>1.459531e+09</td>\n",
       "      <td>-43.319612</td>\n",
       "      <td>-89.584439</td>\n",
       "      <td>0.854677</td>\n",
       "      <td>-15.223848</td>\n",
       "      <td>2490.176566</td>\n",
       "    </tr>\n",
       "    <tr>\n",
       "      <th>50%</th>\n",
       "      <td>1.467432e+09</td>\n",
       "      <td>1.219217</td>\n",
       "      <td>0.070930</td>\n",
       "      <td>1.726674</td>\n",
       "      <td>-0.234758</td>\n",
       "      <td>4920.907779</td>\n",
       "    </tr>\n",
       "    <tr>\n",
       "      <th>75%</th>\n",
       "      <td>1.475310e+09</td>\n",
       "      <td>46.321107</td>\n",
       "      <td>88.911360</td>\n",
       "      <td>2.618524</td>\n",
       "      <td>15.397590</td>\n",
       "      <td>7499.437028</td>\n",
       "    </tr>\n",
       "    <tr>\n",
       "      <th>max</th>\n",
       "      <td>1.483138e+09</td>\n",
       "      <td>89.974703</td>\n",
       "      <td>179.946696</td>\n",
       "      <td>3.499813</td>\n",
       "      <td>29.994035</td>\n",
       "      <td>9999.376454</td>\n",
       "    </tr>\n",
       "  </tbody>\n",
       "</table>\n",
       "</div>"
      ],
      "text/plain": [
       "              dates      latitude     longitude        quant1        quant2  \\\n",
       "count  1.000000e+04  10000.000000  10000.000000  10000.000000  10000.000000   \n",
       "mean   1.467361e+09      1.026321     -0.082380      1.737077      0.031580   \n",
       "std    9.141892e+06     51.545570    103.546299      1.012192     17.456411   \n",
       "min    1.451612e+09    -89.995631   -179.756945      0.001356    -29.979777   \n",
       "25%    1.459531e+09    -43.319612    -89.584439      0.854677    -15.223848   \n",
       "50%    1.467432e+09      1.219217      0.070930      1.726674     -0.234758   \n",
       "75%    1.475310e+09     46.321107     88.911360      2.618524     15.397590   \n",
       "max    1.483138e+09     89.974703    179.946696      3.499813     29.994035   \n",
       "\n",
       "             quant3  \n",
       "count  10000.000000  \n",
       "mean    4980.333493  \n",
       "std     2889.413452  \n",
       "min        0.723583  \n",
       "25%     2490.176566  \n",
       "50%     4920.907779  \n",
       "75%     7499.437028  \n",
       "max     9999.376454  "
      ]
     },
     "execution_count": 5,
     "metadata": {},
     "output_type": "execute_result"
    }
   ],
   "source": [
    "sf.describe()"
   ]
  },
  {
   "cell_type": "code",
   "execution_count": 8,
   "metadata": {
    "collapsed": false
   },
   "outputs": [
    {
     "data": {
      "text/plain": [
       "dtype('float64')"
      ]
     },
     "execution_count": 8,
     "metadata": {},
     "output_type": "execute_result"
    }
   ],
   "source": [
    "sf[\"dates\"].dtype"
   ]
  },
  {
   "cell_type": "code",
   "execution_count": 11,
   "metadata": {
    "collapsed": false
   },
   "outputs": [
    {
     "data": {
      "text/plain": [
       "dtype('O')"
      ]
     },
     "execution_count": 11,
     "metadata": {},
     "output_type": "execute_result"
    }
   ],
   "source": [
    "sf[\"names\"].dtype"
   ]
  },
  {
   "cell_type": "markdown",
   "metadata": {},
   "source": [
    "Seems that the \"names\" column is of type object. Let's convert that to string so we can have them on the plots."
   ]
  },
  {
   "cell_type": "code",
   "execution_count": 12,
   "metadata": {
    "collapsed": true
   },
   "outputs": [],
   "source": [
    "sf[\"names\"] = sf[\"names\"].astype('str')"
   ]
  },
  {
   "cell_type": "code",
   "execution_count": 13,
   "metadata": {
    "collapsed": false
   },
   "outputs": [
    {
     "data": {
      "text/html": [
       "<div>\n",
       "<table border=\"1\" class=\"dataframe\">\n",
       "  <thead>\n",
       "    <tr style=\"text-align: right;\">\n",
       "      <th></th>\n",
       "      <th>names</th>\n",
       "      <th>dates</th>\n",
       "      <th>latitude</th>\n",
       "      <th>longitude</th>\n",
       "      <th>categorical</th>\n",
       "      <th>quant1</th>\n",
       "      <th>quant2</th>\n",
       "      <th>quant3</th>\n",
       "    </tr>\n",
       "  </thead>\n",
       "  <tbody>\n",
       "    <tr>\n",
       "      <th>0</th>\n",
       "      <td>b'Rawad'</td>\n",
       "      <td>1.453009e+09</td>\n",
       "      <td>-19.988651</td>\n",
       "      <td>-41.435565</td>\n",
       "      <td>Category01</td>\n",
       "      <td>1.933239</td>\n",
       "      <td>6.052785</td>\n",
       "      <td>6105.123120</td>\n",
       "    </tr>\n",
       "    <tr>\n",
       "      <th>1</th>\n",
       "      <td>b'Eurma'</td>\n",
       "      <td>1.471779e+09</td>\n",
       "      <td>-8.593256</td>\n",
       "      <td>27.742604</td>\n",
       "      <td>Category00</td>\n",
       "      <td>1.520733</td>\n",
       "      <td>-11.065076</td>\n",
       "      <td>143.902725</td>\n",
       "    </tr>\n",
       "    <tr>\n",
       "      <th>2</th>\n",
       "      <td>b'Taleia'</td>\n",
       "      <td>1.473613e+09</td>\n",
       "      <td>-67.463164</td>\n",
       "      <td>-109.366796</td>\n",
       "      <td>Category04</td>\n",
       "      <td>1.863466</td>\n",
       "      <td>11.437340</td>\n",
       "      <td>2019.370225</td>\n",
       "    </tr>\n",
       "    <tr>\n",
       "      <th>3</th>\n",
       "      <td>b'Niley'</td>\n",
       "      <td>1.481194e+09</td>\n",
       "      <td>-7.537010</td>\n",
       "      <td>-32.218540</td>\n",
       "      <td>Category03</td>\n",
       "      <td>0.745431</td>\n",
       "      <td>19.415543</td>\n",
       "      <td>3225.920647</td>\n",
       "    </tr>\n",
       "    <tr>\n",
       "      <th>4</th>\n",
       "      <td>b'Acey'</td>\n",
       "      <td>1.454403e+09</td>\n",
       "      <td>-17.116866</td>\n",
       "      <td>2.949914</td>\n",
       "      <td>Category05</td>\n",
       "      <td>1.031100</td>\n",
       "      <td>17.714492</td>\n",
       "      <td>4976.099324</td>\n",
       "    </tr>\n",
       "  </tbody>\n",
       "</table>\n",
       "</div>"
      ],
      "text/plain": [
       "       names         dates   latitude   longitude categorical    quant1  \\\n",
       "0   b'Rawad'  1.453009e+09 -19.988651  -41.435565  Category01  1.933239   \n",
       "1   b'Eurma'  1.471779e+09  -8.593256   27.742604  Category00  1.520733   \n",
       "2  b'Taleia'  1.473613e+09 -67.463164 -109.366796  Category04  1.863466   \n",
       "3   b'Niley'  1.481194e+09  -7.537010  -32.218540  Category03  0.745431   \n",
       "4    b'Acey'  1.454403e+09 -17.116866    2.949914  Category05  1.031100   \n",
       "\n",
       "      quant2       quant3  \n",
       "0   6.052785  6105.123120  \n",
       "1 -11.065076   143.902725  \n",
       "2  11.437340  2019.370225  \n",
       "3  19.415543  3225.920647  \n",
       "4  17.714492  4976.099324  "
      ]
     },
     "execution_count": 13,
     "metadata": {},
     "output_type": "execute_result"
    }
   ],
   "source": [
    "sf.head()"
   ]
  },
  {
   "cell_type": "code",
   "execution_count": 14,
   "metadata": {
    "collapsed": false
   },
   "outputs": [
    {
     "data": {
      "text/plain": [
       "dtype('O')"
      ]
     },
     "execution_count": 14,
     "metadata": {},
     "output_type": "execute_result"
    }
   ],
   "source": [
    "sf[\"names\"].dtype"
   ]
  },
  {
   "cell_type": "code",
   "execution_count": null,
   "metadata": {
    "collapsed": true
   },
   "outputs": [],
   "source": []
  },
  {
   "cell_type": "code",
   "execution_count": 9,
   "metadata": {
    "collapsed": false
   },
   "outputs": [
    {
     "ename": "ValueError",
     "evalue": "could not convert string to float: \"b'Shamsuddin'\"",
     "output_type": "error",
     "traceback": [
      "\u001b[0;31m---------------------------------------------------------------------------\u001b[0m",
      "\u001b[0;31mValueError\u001b[0m                                Traceback (most recent call last)",
      "\u001b[0;32m<ipython-input-9-65bbda956cf1>\u001b[0m in \u001b[0;36m<module>\u001b[0;34m()\u001b[0m\n\u001b[0;32m----> 1\u001b[0;31m \u001b[0mplt\u001b[0m\u001b[0;34m.\u001b[0m\u001b[0mplot\u001b[0m\u001b[0;34m(\u001b[0m\u001b[0msf\u001b[0m\u001b[0;34m[\u001b[0m\u001b[0;34m\"names\"\u001b[0m\u001b[0;34m]\u001b[0m\u001b[0;34m,\u001b[0m \u001b[0msf\u001b[0m\u001b[0;34m[\u001b[0m\u001b[0;34m\"quant1\"\u001b[0m\u001b[0;34m]\u001b[0m\u001b[0;34m)\u001b[0m\u001b[0;34m\u001b[0m\u001b[0m\n\u001b[0m",
      "\u001b[0;32m/opt/conda/lib/python3.5/site-packages/matplotlib/pyplot.py\u001b[0m in \u001b[0;36mplot\u001b[0;34m(*args, **kwargs)\u001b[0m\n\u001b[1;32m   3152\u001b[0m         \u001b[0max\u001b[0m\u001b[0;34m.\u001b[0m\u001b[0mhold\u001b[0m\u001b[0;34m(\u001b[0m\u001b[0mhold\u001b[0m\u001b[0;34m)\u001b[0m\u001b[0;34m\u001b[0m\u001b[0m\n\u001b[1;32m   3153\u001b[0m     \u001b[0;32mtry\u001b[0m\u001b[0;34m:\u001b[0m\u001b[0;34m\u001b[0m\u001b[0m\n\u001b[0;32m-> 3154\u001b[0;31m         \u001b[0mret\u001b[0m \u001b[0;34m=\u001b[0m \u001b[0max\u001b[0m\u001b[0;34m.\u001b[0m\u001b[0mplot\u001b[0m\u001b[0;34m(\u001b[0m\u001b[0;34m*\u001b[0m\u001b[0margs\u001b[0m\u001b[0;34m,\u001b[0m \u001b[0;34m**\u001b[0m\u001b[0mkwargs\u001b[0m\u001b[0;34m)\u001b[0m\u001b[0;34m\u001b[0m\u001b[0m\n\u001b[0m\u001b[1;32m   3155\u001b[0m     \u001b[0;32mfinally\u001b[0m\u001b[0;34m:\u001b[0m\u001b[0;34m\u001b[0m\u001b[0m\n\u001b[1;32m   3156\u001b[0m         \u001b[0max\u001b[0m\u001b[0;34m.\u001b[0m\u001b[0mhold\u001b[0m\u001b[0;34m(\u001b[0m\u001b[0mwashold\u001b[0m\u001b[0;34m)\u001b[0m\u001b[0;34m\u001b[0m\u001b[0m\n",
      "\u001b[0;32m/opt/conda/lib/python3.5/site-packages/matplotlib/__init__.py\u001b[0m in \u001b[0;36minner\u001b[0;34m(ax, *args, **kwargs)\u001b[0m\n\u001b[1;32m   1810\u001b[0m                     warnings.warn(msg % (label_namer, func.__name__),\n\u001b[1;32m   1811\u001b[0m                                   RuntimeWarning, stacklevel=2)\n\u001b[0;32m-> 1812\u001b[0;31m             \u001b[0;32mreturn\u001b[0m \u001b[0mfunc\u001b[0m\u001b[0;34m(\u001b[0m\u001b[0max\u001b[0m\u001b[0;34m,\u001b[0m \u001b[0;34m*\u001b[0m\u001b[0margs\u001b[0m\u001b[0;34m,\u001b[0m \u001b[0;34m**\u001b[0m\u001b[0mkwargs\u001b[0m\u001b[0;34m)\u001b[0m\u001b[0;34m\u001b[0m\u001b[0m\n\u001b[0m\u001b[1;32m   1813\u001b[0m         \u001b[0mpre_doc\u001b[0m \u001b[0;34m=\u001b[0m \u001b[0minner\u001b[0m\u001b[0;34m.\u001b[0m\u001b[0m__doc__\u001b[0m\u001b[0;34m\u001b[0m\u001b[0m\n\u001b[1;32m   1814\u001b[0m         \u001b[0;32mif\u001b[0m \u001b[0mpre_doc\u001b[0m \u001b[0;32mis\u001b[0m \u001b[0;32mNone\u001b[0m\u001b[0;34m:\u001b[0m\u001b[0;34m\u001b[0m\u001b[0m\n",
      "\u001b[0;32m/opt/conda/lib/python3.5/site-packages/matplotlib/axes/_axes.py\u001b[0m in \u001b[0;36mplot\u001b[0;34m(self, *args, **kwargs)\u001b[0m\n\u001b[1;32m   1423\u001b[0m \u001b[0;34m\u001b[0m\u001b[0m\n\u001b[1;32m   1424\u001b[0m         \u001b[0;32mfor\u001b[0m \u001b[0mline\u001b[0m \u001b[0;32min\u001b[0m \u001b[0mself\u001b[0m\u001b[0;34m.\u001b[0m\u001b[0m_get_lines\u001b[0m\u001b[0;34m(\u001b[0m\u001b[0;34m*\u001b[0m\u001b[0margs\u001b[0m\u001b[0;34m,\u001b[0m \u001b[0;34m**\u001b[0m\u001b[0mkwargs\u001b[0m\u001b[0;34m)\u001b[0m\u001b[0;34m:\u001b[0m\u001b[0;34m\u001b[0m\u001b[0m\n\u001b[0;32m-> 1425\u001b[0;31m             \u001b[0mself\u001b[0m\u001b[0;34m.\u001b[0m\u001b[0madd_line\u001b[0m\u001b[0;34m(\u001b[0m\u001b[0mline\u001b[0m\u001b[0;34m)\u001b[0m\u001b[0;34m\u001b[0m\u001b[0m\n\u001b[0m\u001b[1;32m   1426\u001b[0m             \u001b[0mlines\u001b[0m\u001b[0;34m.\u001b[0m\u001b[0mappend\u001b[0m\u001b[0;34m(\u001b[0m\u001b[0mline\u001b[0m\u001b[0;34m)\u001b[0m\u001b[0;34m\u001b[0m\u001b[0m\n\u001b[1;32m   1427\u001b[0m \u001b[0;34m\u001b[0m\u001b[0m\n",
      "\u001b[0;32m/opt/conda/lib/python3.5/site-packages/matplotlib/axes/_base.py\u001b[0m in \u001b[0;36madd_line\u001b[0;34m(self, line)\u001b[0m\n\u001b[1;32m   1706\u001b[0m             \u001b[0mline\u001b[0m\u001b[0;34m.\u001b[0m\u001b[0mset_clip_path\u001b[0m\u001b[0;34m(\u001b[0m\u001b[0mself\u001b[0m\u001b[0;34m.\u001b[0m\u001b[0mpatch\u001b[0m\u001b[0;34m)\u001b[0m\u001b[0;34m\u001b[0m\u001b[0m\n\u001b[1;32m   1707\u001b[0m \u001b[0;34m\u001b[0m\u001b[0m\n\u001b[0;32m-> 1708\u001b[0;31m         \u001b[0mself\u001b[0m\u001b[0;34m.\u001b[0m\u001b[0m_update_line_limits\u001b[0m\u001b[0;34m(\u001b[0m\u001b[0mline\u001b[0m\u001b[0;34m)\u001b[0m\u001b[0;34m\u001b[0m\u001b[0m\n\u001b[0m\u001b[1;32m   1709\u001b[0m         \u001b[0;32mif\u001b[0m \u001b[0;32mnot\u001b[0m \u001b[0mline\u001b[0m\u001b[0;34m.\u001b[0m\u001b[0mget_label\u001b[0m\u001b[0;34m(\u001b[0m\u001b[0;34m)\u001b[0m\u001b[0;34m:\u001b[0m\u001b[0;34m\u001b[0m\u001b[0m\n\u001b[1;32m   1710\u001b[0m             \u001b[0mline\u001b[0m\u001b[0;34m.\u001b[0m\u001b[0mset_label\u001b[0m\u001b[0;34m(\u001b[0m\u001b[0;34m'_line%d'\u001b[0m \u001b[0;34m%\u001b[0m \u001b[0mlen\u001b[0m\u001b[0;34m(\u001b[0m\u001b[0mself\u001b[0m\u001b[0;34m.\u001b[0m\u001b[0mlines\u001b[0m\u001b[0;34m)\u001b[0m\u001b[0;34m)\u001b[0m\u001b[0;34m\u001b[0m\u001b[0m\n",
      "\u001b[0;32m/opt/conda/lib/python3.5/site-packages/matplotlib/axes/_base.py\u001b[0m in \u001b[0;36m_update_line_limits\u001b[0;34m(self, line)\u001b[0m\n\u001b[1;32m   1728\u001b[0m         \u001b[0mFigures\u001b[0m \u001b[0mout\u001b[0m \u001b[0mthe\u001b[0m \u001b[0mdata\u001b[0m \u001b[0mlimit\u001b[0m \u001b[0mof\u001b[0m \u001b[0mthe\u001b[0m \u001b[0mgiven\u001b[0m \u001b[0mline\u001b[0m\u001b[0;34m,\u001b[0m \u001b[0mupdating\u001b[0m \u001b[0mself\u001b[0m\u001b[0;34m.\u001b[0m\u001b[0mdataLim\u001b[0m\u001b[0;34m.\u001b[0m\u001b[0;34m\u001b[0m\u001b[0m\n\u001b[1;32m   1729\u001b[0m         \"\"\"\n\u001b[0;32m-> 1730\u001b[0;31m         \u001b[0mpath\u001b[0m \u001b[0;34m=\u001b[0m \u001b[0mline\u001b[0m\u001b[0;34m.\u001b[0m\u001b[0mget_path\u001b[0m\u001b[0;34m(\u001b[0m\u001b[0;34m)\u001b[0m\u001b[0;34m\u001b[0m\u001b[0m\n\u001b[0m\u001b[1;32m   1731\u001b[0m         \u001b[0;32mif\u001b[0m \u001b[0mpath\u001b[0m\u001b[0;34m.\u001b[0m\u001b[0mvertices\u001b[0m\u001b[0;34m.\u001b[0m\u001b[0msize\u001b[0m \u001b[0;34m==\u001b[0m \u001b[0;36m0\u001b[0m\u001b[0;34m:\u001b[0m\u001b[0;34m\u001b[0m\u001b[0m\n\u001b[1;32m   1732\u001b[0m             \u001b[0;32mreturn\u001b[0m\u001b[0;34m\u001b[0m\u001b[0m\n",
      "\u001b[0;32m/opt/conda/lib/python3.5/site-packages/matplotlib/lines.py\u001b[0m in \u001b[0;36mget_path\u001b[0;34m(self)\u001b[0m\n\u001b[1;32m    923\u001b[0m         \"\"\"\n\u001b[1;32m    924\u001b[0m         \u001b[0;32mif\u001b[0m \u001b[0mself\u001b[0m\u001b[0;34m.\u001b[0m\u001b[0m_invalidy\u001b[0m \u001b[0;32mor\u001b[0m \u001b[0mself\u001b[0m\u001b[0;34m.\u001b[0m\u001b[0m_invalidx\u001b[0m\u001b[0;34m:\u001b[0m\u001b[0;34m\u001b[0m\u001b[0m\n\u001b[0;32m--> 925\u001b[0;31m             \u001b[0mself\u001b[0m\u001b[0;34m.\u001b[0m\u001b[0mrecache\u001b[0m\u001b[0;34m(\u001b[0m\u001b[0;34m)\u001b[0m\u001b[0;34m\u001b[0m\u001b[0m\n\u001b[0m\u001b[1;32m    926\u001b[0m         \u001b[0;32mreturn\u001b[0m \u001b[0mself\u001b[0m\u001b[0;34m.\u001b[0m\u001b[0m_path\u001b[0m\u001b[0;34m\u001b[0m\u001b[0m\n\u001b[1;32m    927\u001b[0m \u001b[0;34m\u001b[0m\u001b[0m\n",
      "\u001b[0;32m/opt/conda/lib/python3.5/site-packages/matplotlib/lines.py\u001b[0m in \u001b[0;36mrecache\u001b[0;34m(self, always)\u001b[0m\n\u001b[1;32m    610\u001b[0m                 \u001b[0mx\u001b[0m \u001b[0;34m=\u001b[0m \u001b[0mma\u001b[0m\u001b[0;34m.\u001b[0m\u001b[0masarray\u001b[0m\u001b[0;34m(\u001b[0m\u001b[0mxconv\u001b[0m\u001b[0;34m,\u001b[0m \u001b[0mnp\u001b[0m\u001b[0;34m.\u001b[0m\u001b[0mfloat_\u001b[0m\u001b[0;34m)\u001b[0m\u001b[0;34m.\u001b[0m\u001b[0mfilled\u001b[0m\u001b[0;34m(\u001b[0m\u001b[0mnp\u001b[0m\u001b[0;34m.\u001b[0m\u001b[0mnan\u001b[0m\u001b[0;34m)\u001b[0m\u001b[0;34m\u001b[0m\u001b[0m\n\u001b[1;32m    611\u001b[0m             \u001b[0;32melse\u001b[0m\u001b[0;34m:\u001b[0m\u001b[0;34m\u001b[0m\u001b[0m\n\u001b[0;32m--> 612\u001b[0;31m                 \u001b[0mx\u001b[0m \u001b[0;34m=\u001b[0m \u001b[0mnp\u001b[0m\u001b[0;34m.\u001b[0m\u001b[0masarray\u001b[0m\u001b[0;34m(\u001b[0m\u001b[0mxconv\u001b[0m\u001b[0;34m,\u001b[0m \u001b[0mnp\u001b[0m\u001b[0;34m.\u001b[0m\u001b[0mfloat_\u001b[0m\u001b[0;34m)\u001b[0m\u001b[0;34m\u001b[0m\u001b[0m\n\u001b[0m\u001b[1;32m    613\u001b[0m             \u001b[0mx\u001b[0m \u001b[0;34m=\u001b[0m \u001b[0mx\u001b[0m\u001b[0;34m.\u001b[0m\u001b[0mravel\u001b[0m\u001b[0;34m(\u001b[0m\u001b[0;34m)\u001b[0m\u001b[0;34m\u001b[0m\u001b[0m\n\u001b[1;32m    614\u001b[0m         \u001b[0;32melse\u001b[0m\u001b[0;34m:\u001b[0m\u001b[0;34m\u001b[0m\u001b[0m\n",
      "\u001b[0;32m/opt/conda/lib/python3.5/site-packages/numpy/core/numeric.py\u001b[0m in \u001b[0;36masarray\u001b[0;34m(a, dtype, order)\u001b[0m\n\u001b[1;32m    480\u001b[0m \u001b[0;34m\u001b[0m\u001b[0m\n\u001b[1;32m    481\u001b[0m     \"\"\"\n\u001b[0;32m--> 482\u001b[0;31m     \u001b[0;32mreturn\u001b[0m \u001b[0marray\u001b[0m\u001b[0;34m(\u001b[0m\u001b[0ma\u001b[0m\u001b[0;34m,\u001b[0m \u001b[0mdtype\u001b[0m\u001b[0;34m,\u001b[0m \u001b[0mcopy\u001b[0m\u001b[0;34m=\u001b[0m\u001b[0;32mFalse\u001b[0m\u001b[0;34m,\u001b[0m \u001b[0morder\u001b[0m\u001b[0;34m=\u001b[0m\u001b[0morder\u001b[0m\u001b[0;34m)\u001b[0m\u001b[0;34m\u001b[0m\u001b[0m\n\u001b[0m\u001b[1;32m    483\u001b[0m \u001b[0;34m\u001b[0m\u001b[0m\n\u001b[1;32m    484\u001b[0m \u001b[0;32mdef\u001b[0m \u001b[0masanyarray\u001b[0m\u001b[0;34m(\u001b[0m\u001b[0ma\u001b[0m\u001b[0;34m,\u001b[0m \u001b[0mdtype\u001b[0m\u001b[0;34m=\u001b[0m\u001b[0;32mNone\u001b[0m\u001b[0;34m,\u001b[0m \u001b[0morder\u001b[0m\u001b[0;34m=\u001b[0m\u001b[0;32mNone\u001b[0m\u001b[0;34m)\u001b[0m\u001b[0;34m:\u001b[0m\u001b[0;34m\u001b[0m\u001b[0m\n",
      "\u001b[0;31mValueError\u001b[0m: could not convert string to float: \"b'Shamsuddin'\""
     ]
    }
   ],
   "source": [
    "plt.plot(sf[\"names\"], sf[\"quant1\"])"
   ]
  },
  {
   "cell_type": "code",
   "execution_count": 16,
   "metadata": {
    "collapsed": false
   },
   "outputs": [
    {
     "data": {
      "text/plain": [
       "1.7370771337027695"
      ]
     },
     "execution_count": 16,
     "metadata": {},
     "output_type": "execute_result"
    }
   ],
   "source": [
    "sf[\"quant1\"].mean()"
   ]
  },
  {
   "cell_type": "code",
   "execution_count": 17,
   "metadata": {
    "collapsed": false
   },
   "outputs": [
    {
     "data": {
      "text/plain": [
       "0.031579569023757338"
      ]
     },
     "execution_count": 17,
     "metadata": {},
     "output_type": "execute_result"
    }
   ],
   "source": [
    "sf[\"quant2\"].mean()"
   ]
  },
  {
   "cell_type": "code",
   "execution_count": 18,
   "metadata": {
    "collapsed": false
   },
   "outputs": [
    {
     "data": {
      "text/plain": [
       "4980.3334926279504"
      ]
     },
     "execution_count": 18,
     "metadata": {},
     "output_type": "execute_result"
    }
   ],
   "source": [
    "sf[\"quant3\"].mean()"
   ]
  },
  {
   "cell_type": "markdown",
   "metadata": {},
   "source": [
    "Seems that the means are very disparate in value. So instead let's have the five-number summary of each numeric column in a plot."
   ]
  },
  {
   "cell_type": "code",
   "execution_count": 20,
   "metadata": {
    "collapsed": false
   },
   "outputs": [
    {
     "data": {
      "image/png": "[encoded data removed]",
      "text/plain": [
       "<matplotlib.figure.Figure at 0x7f8e0c2e2a58>"
      ]
     },
     "metadata": {},
     "output_type": "display_data"
    }
   ],
   "source": [
    "sf.boxplot(column=\"quant1\")\n",
    "plt.show()"
   ]
  },
  {
   "cell_type": "code",
   "execution_count": 21,
   "metadata": {
    "collapsed": false
   },
   "outputs": [
    {
     "data": {
      "image/png": "[encoded data removed]",
      "text/plain": [
       "<matplotlib.figure.Figure at 0x7f8e0c11bfd0>"
      ]
     },
     "metadata": {},
     "output_type": "display_data"
    }
   ],
   "source": [
    "sf.boxplot(column=\"quant2\")\n",
    "plt.show()"
   ]
  },
  {
   "cell_type": "code",
   "execution_count": 22,
   "metadata": {
    "collapsed": false
   },
   "outputs": [
    {
     "data": {
      "image/png": "[encoded data removed]",
      "text/plain": [
       "<matplotlib.figure.Figure at 0x7f8e0912fa58>"
      ]
     },
     "metadata": {},
     "output_type": "display_data"
    }
   ],
   "source": [
    "sf.boxplot(column=\"quant3\")\n",
    "plt.show()"
   ]
  },
  {
   "cell_type": "code",
   "execution_count": 23,
   "metadata": {
    "collapsed": false
   },
   "outputs": [
    {
     "data": {
      "text/html": [
       "<div>\n",
       "<table border=\"1\" class=\"dataframe\">\n",
       "  <thead>\n",
       "    <tr style=\"text-align: right;\">\n",
       "      <th></th>\n",
       "      <th>names</th>\n",
       "      <th>dates</th>\n",
       "      <th>latitude</th>\n",
       "      <th>longitude</th>\n",
       "      <th>categorical</th>\n",
       "      <th>quant1</th>\n",
       "      <th>quant2</th>\n",
       "      <th>quant3</th>\n",
       "    </tr>\n",
       "  </thead>\n",
       "  <tbody>\n",
       "    <tr>\n",
       "      <th>0</th>\n",
       "      <td>b'Rawad'</td>\n",
       "      <td>1.453009e+09</td>\n",
       "      <td>-19.988651</td>\n",
       "      <td>-41.435565</td>\n",
       "      <td>Category01</td>\n",
       "      <td>1.933239</td>\n",
       "      <td>6.052785</td>\n",
       "      <td>6105.123120</td>\n",
       "    </tr>\n",
       "    <tr>\n",
       "      <th>1</th>\n",
       "      <td>b'Eurma'</td>\n",
       "      <td>1.471779e+09</td>\n",
       "      <td>-8.593256</td>\n",
       "      <td>27.742604</td>\n",
       "      <td>Category00</td>\n",
       "      <td>1.520733</td>\n",
       "      <td>-11.065076</td>\n",
       "      <td>143.902725</td>\n",
       "    </tr>\n",
       "    <tr>\n",
       "      <th>2</th>\n",
       "      <td>b'Taleia'</td>\n",
       "      <td>1.473613e+09</td>\n",
       "      <td>-67.463164</td>\n",
       "      <td>-109.366796</td>\n",
       "      <td>Category04</td>\n",
       "      <td>1.863466</td>\n",
       "      <td>11.437340</td>\n",
       "      <td>2019.370225</td>\n",
       "    </tr>\n",
       "    <tr>\n",
       "      <th>3</th>\n",
       "      <td>b'Niley'</td>\n",
       "      <td>1.481194e+09</td>\n",
       "      <td>-7.537010</td>\n",
       "      <td>-32.218540</td>\n",
       "      <td>Category03</td>\n",
       "      <td>0.745431</td>\n",
       "      <td>19.415543</td>\n",
       "      <td>3225.920647</td>\n",
       "    </tr>\n",
       "    <tr>\n",
       "      <th>4</th>\n",
       "      <td>b'Acey'</td>\n",
       "      <td>1.454403e+09</td>\n",
       "      <td>-17.116866</td>\n",
       "      <td>2.949914</td>\n",
       "      <td>Category05</td>\n",
       "      <td>1.031100</td>\n",
       "      <td>17.714492</td>\n",
       "      <td>4976.099324</td>\n",
       "    </tr>\n",
       "  </tbody>\n",
       "</table>\n",
       "</div>"
      ],
      "text/plain": [
       "       names         dates   latitude   longitude categorical    quant1  \\\n",
       "0   b'Rawad'  1.453009e+09 -19.988651  -41.435565  Category01  1.933239   \n",
       "1   b'Eurma'  1.471779e+09  -8.593256   27.742604  Category00  1.520733   \n",
       "2  b'Taleia'  1.473613e+09 -67.463164 -109.366796  Category04  1.863466   \n",
       "3   b'Niley'  1.481194e+09  -7.537010  -32.218540  Category03  0.745431   \n",
       "4    b'Acey'  1.454403e+09 -17.116866    2.949914  Category05  1.031100   \n",
       "\n",
       "      quant2       quant3  \n",
       "0   6.052785  6105.123120  \n",
       "1 -11.065076   143.902725  \n",
       "2  11.437340  2019.370225  \n",
       "3  19.415543  3225.920647  \n",
       "4  17.714492  4976.099324  "
      ]
     },
     "execution_count": 23,
     "metadata": {},
     "output_type": "execute_result"
    }
   ],
   "source": [
    "sf.head()"
   ]
  },
  {
   "cell_type": "markdown",
   "metadata": {},
   "source": [
    "The date values in the dataframe look very strange."
   ]
  },
  {
   "cell_type": "code",
   "execution_count": 24,
   "metadata": {
    "collapsed": false
   },
   "outputs": [
    {
     "data": {
      "text/plain": [
       "dtype('float64')"
      ]
     },
     "execution_count": 24,
     "metadata": {},
     "output_type": "execute_result"
    }
   ],
   "source": [
    "sf[\"dates\"].dtype"
   ]
  },
  {
   "cell_type": "code",
   "execution_count": 27,
   "metadata": {
    "collapsed": false
   },
   "outputs": [
    {
     "data": {
      "text/plain": [
       "0   1970-01-01 00:00:01.453008863\n",
       "1   1970-01-01 00:00:01.471778578\n",
       "2   1970-01-01 00:00:01.473613446\n",
       "3   1970-01-01 00:00:01.481194251\n",
       "4   1970-01-01 00:00:01.454402794\n",
       "Name: dates, dtype: datetime64[ns]"
      ]
     },
     "execution_count": 27,
     "metadata": {},
     "output_type": "execute_result"
    }
   ],
   "source": [
    "sf[\"dates\"] = pd.to_datetime(sf[\"dates\"])\n",
    "sf[\"dates\"].head()"
   ]
  },
  {
   "cell_type": "code",
   "execution_count": 28,
   "metadata": {
    "collapsed": false
   },
   "outputs": [
    {
     "data": {
      "text/plain": [
       "9995   1970-01-01 00:00:01.467967179\n",
       "9996   1970-01-01 00:00:01.468900894\n",
       "9997   1970-01-01 00:00:01.482666939\n",
       "9998   1970-01-01 00:00:01.480074969\n",
       "9999   1970-01-01 00:00:01.459758267\n",
       "Name: dates, dtype: datetime64[ns]"
      ]
     },
     "execution_count": 28,
     "metadata": {},
     "output_type": "execute_result"
    }
   ],
   "source": [
    "sf[\"dates\"].tail()"
   ]
  },
  {
   "cell_type": "markdown",
   "metadata": {},
   "source": [
    "So, I converted them somehow, but honestly I'm not sure if this is the correct representation now, as we are not going past the first day of 1970."
   ]
  },
  {
   "cell_type": "markdown",
   "metadata": {},
   "source": [
    "Next, let's try plotting latitude and longitude on a map."
   ]
  },
  {
   "cell_type": "code",
   "execution_count": 33,
   "metadata": {
    "collapsed": true
   },
   "outputs": [],
   "source": [
    "lon_arr=[]  \n",
    "lat_arr=[]  \n",
    "for x in sf[\"longitude\"][1:1000]: lon_arr.append(x)  \n",
    "for x in sf[\"latitude\"][1:1000]: lat_arr.append(x)"
   ]
  },
  {
   "cell_type": "code",
   "execution_count": 40,
   "metadata": {
    "collapsed": false
   },
   "outputs": [
    {
     "data": {
      "image/png": "[encoded data removed]",
      "text/plain": [
       "<matplotlib.figure.Figure at 0x7f8dc5dbd198>"
      ]
     },
     "metadata": {},
     "output_type": "display_data"
    }
   ],
   "source": [
    "from mpl_toolkits.basemap import Basemap\n",
    "\n",
    "map = Basemap(projection='robin', resolution = 'l', area_thresh = 1000.0,lat_0=0, lon_0=-130)\n",
    "map.drawcoastlines()\n",
    "map.drawcountries()\n",
    "map.fillcontinents(color = 'gray')\n",
    "map.drawmapboundary()\n",
    "\n",
    "x,y = map(lon_arr, lat_arr)\n",
    "\n",
    "map.plot(x, y, 'r.', markersize=6)\n",
    "\n",
    "plt.show()"
   ]
  },
  {
   "cell_type": "code",
   "execution_count": 41,
   "metadata": {
    "collapsed": false
   },
   "outputs": [
    {
     "data": {
      "text/html": [
       "<div>\n",
       "<table border=\"1\" class=\"dataframe\">\n",
       "  <thead>\n",
       "    <tr style=\"text-align: right;\">\n",
       "      <th></th>\n",
       "      <th>names</th>\n",
       "      <th>dates</th>\n",
       "      <th>latitude</th>\n",
       "      <th>longitude</th>\n",
       "      <th>categorical</th>\n",
       "      <th>quant1</th>\n",
       "      <th>quant2</th>\n",
       "      <th>quant3</th>\n",
       "    </tr>\n",
       "  </thead>\n",
       "  <tbody>\n",
       "    <tr>\n",
       "      <th>0</th>\n",
       "      <td>b'Rawad'</td>\n",
       "      <td>1970-01-01 00:00:01.453008863</td>\n",
       "      <td>-19.988651</td>\n",
       "      <td>-41.435565</td>\n",
       "      <td>Category01</td>\n",
       "      <td>1.933239</td>\n",
       "      <td>6.052785</td>\n",
       "      <td>6105.123120</td>\n",
       "    </tr>\n",
       "    <tr>\n",
       "      <th>1</th>\n",
       "      <td>b'Eurma'</td>\n",
       "      <td>1970-01-01 00:00:01.471778578</td>\n",
       "      <td>-8.593256</td>\n",
       "      <td>27.742604</td>\n",
       "      <td>Category00</td>\n",
       "      <td>1.520733</td>\n",
       "      <td>-11.065076</td>\n",
       "      <td>143.902725</td>\n",
       "    </tr>\n",
       "    <tr>\n",
       "      <th>2</th>\n",
       "      <td>b'Taleia'</td>\n",
       "      <td>1970-01-01 00:00:01.473613446</td>\n",
       "      <td>-67.463164</td>\n",
       "      <td>-109.366796</td>\n",
       "      <td>Category04</td>\n",
       "      <td>1.863466</td>\n",
       "      <td>11.437340</td>\n",
       "      <td>2019.370225</td>\n",
       "    </tr>\n",
       "    <tr>\n",
       "      <th>3</th>\n",
       "      <td>b'Niley'</td>\n",
       "      <td>1970-01-01 00:00:01.481194251</td>\n",
       "      <td>-7.537010</td>\n",
       "      <td>-32.218540</td>\n",
       "      <td>Category03</td>\n",
       "      <td>0.745431</td>\n",
       "      <td>19.415543</td>\n",
       "      <td>3225.920647</td>\n",
       "    </tr>\n",
       "    <tr>\n",
       "      <th>4</th>\n",
       "      <td>b'Acey'</td>\n",
       "      <td>1970-01-01 00:00:01.454402794</td>\n",
       "      <td>-17.116866</td>\n",
       "      <td>2.949914</td>\n",
       "      <td>Category05</td>\n",
       "      <td>1.031100</td>\n",
       "      <td>17.714492</td>\n",
       "      <td>4976.099324</td>\n",
       "    </tr>\n",
       "  </tbody>\n",
       "</table>\n",
       "</div>"
      ],
      "text/plain": [
       "       names                         dates   latitude   longitude categorical  \\\n",
       "0   b'Rawad' 1970-01-01 00:00:01.453008863 -19.988651  -41.435565  Category01   \n",
       "1   b'Eurma' 1970-01-01 00:00:01.471778578  -8.593256   27.742604  Category00   \n",
       "2  b'Taleia' 1970-01-01 00:00:01.473613446 -67.463164 -109.366796  Category04   \n",
       "3   b'Niley' 1970-01-01 00:00:01.481194251  -7.537010  -32.218540  Category03   \n",
       "4    b'Acey' 1970-01-01 00:00:01.454402794 -17.116866    2.949914  Category05   \n",
       "\n",
       "     quant1     quant2       quant3  \n",
       "0  1.933239   6.052785  6105.123120  \n",
       "1  1.520733 -11.065076   143.902725  \n",
       "2  1.863466  11.437340  2019.370225  \n",
       "3  0.745431  19.415543  3225.920647  \n",
       "4  1.031100  17.714492  4976.099324  "
      ]
     },
     "execution_count": 41,
     "metadata": {},
     "output_type": "execute_result"
    }
   ],
   "source": [
    "sf.head()"
   ]
  },
  {
   "cell_type": "markdown",
   "metadata": {},
   "source": [
    "Now, we try to show the properties of the quantitative columns for each category. As the quantitative columns look very disparate in value, it doesn't make much sense to plot them on the same graph. Instead, we display the properties of each quantitative column for all categories in one plot."
   ]
  },
  {
   "cell_type": "code",
   "execution_count": 43,
   "metadata": {
    "collapsed": false
   },
   "outputs": [],
   "source": [
    "cat1data = sf.loc[sf['categorical'] == \"Category01\"]\n",
    "cat2data = sf.loc[sf['categorical'] == \"Category02\"]\n",
    "cat3data = sf.loc[sf['categorical'] == \"Category03\"]\n",
    "cat4data = sf.loc[sf['categorical'] == \"Category04\"]\n",
    "cat5data = sf.loc[sf['categorical'] == \"Category05\"]"
   ]
  },
  {
   "cell_type": "code",
   "execution_count": 44,
   "metadata": {
    "collapsed": false
   },
   "outputs": [
    {
     "data": {
      "text/html": [
       "<div>\n",
       "<table border=\"1\" class=\"dataframe\">\n",
       "  <thead>\n",
       "    <tr style=\"text-align: right;\">\n",
       "      <th></th>\n",
       "      <th>names</th>\n",
       "      <th>dates</th>\n",
       "      <th>latitude</th>\n",
       "      <th>longitude</th>\n",
       "      <th>categorical</th>\n",
       "      <th>quant1</th>\n",
       "      <th>quant2</th>\n",
       "      <th>quant3</th>\n",
       "    </tr>\n",
       "  </thead>\n",
       "  <tbody>\n",
       "    <tr>\n",
       "      <th>0</th>\n",
       "      <td>b'Rawad'</td>\n",
       "      <td>1970-01-01 00:00:01.453008863</td>\n",
       "      <td>-19.988651</td>\n",
       "      <td>-41.435565</td>\n",
       "      <td>Category01</td>\n",
       "      <td>1.933239</td>\n",
       "      <td>6.052785</td>\n",
       "      <td>6105.123120</td>\n",
       "    </tr>\n",
       "    <tr>\n",
       "      <th>10</th>\n",
       "      <td>b'Fedel'</td>\n",
       "      <td>1970-01-01 00:00:01.477812041</td>\n",
       "      <td>-18.631134</td>\n",
       "      <td>74.340457</td>\n",
       "      <td>Category01</td>\n",
       "      <td>2.279198</td>\n",
       "      <td>14.212963</td>\n",
       "      <td>603.250919</td>\n",
       "    </tr>\n",
       "    <tr>\n",
       "      <th>11</th>\n",
       "      <td>b'Atha'</td>\n",
       "      <td>1970-01-01 00:00:01.466150350</td>\n",
       "      <td>-15.882935</td>\n",
       "      <td>33.755634</td>\n",
       "      <td>Category01</td>\n",
       "      <td>2.313199</td>\n",
       "      <td>-9.623635</td>\n",
       "      <td>7044.723136</td>\n",
       "    </tr>\n",
       "    <tr>\n",
       "      <th>36</th>\n",
       "      <td>b'Deyla'</td>\n",
       "      <td>1970-01-01 00:00:01.481619486</td>\n",
       "      <td>-77.171142</td>\n",
       "      <td>-2.007174</td>\n",
       "      <td>Category01</td>\n",
       "      <td>2.958818</td>\n",
       "      <td>-6.392447</td>\n",
       "      <td>5285.971992</td>\n",
       "    </tr>\n",
       "    <tr>\n",
       "      <th>37</th>\n",
       "      <td>b'Aniysa'</td>\n",
       "      <td>1970-01-01 00:00:01.453739590</td>\n",
       "      <td>-44.443984</td>\n",
       "      <td>3.682890</td>\n",
       "      <td>Category01</td>\n",
       "      <td>0.790112</td>\n",
       "      <td>-8.476905</td>\n",
       "      <td>5635.925674</td>\n",
       "    </tr>\n",
       "  </tbody>\n",
       "</table>\n",
       "</div>"
      ],
      "text/plain": [
       "        names                         dates   latitude  longitude categorical  \\\n",
       "0    b'Rawad' 1970-01-01 00:00:01.453008863 -19.988651 -41.435565  Category01   \n",
       "10   b'Fedel' 1970-01-01 00:00:01.477812041 -18.631134  74.340457  Category01   \n",
       "11    b'Atha' 1970-01-01 00:00:01.466150350 -15.882935  33.755634  Category01   \n",
       "36   b'Deyla' 1970-01-01 00:00:01.481619486 -77.171142  -2.007174  Category01   \n",
       "37  b'Aniysa' 1970-01-01 00:00:01.453739590 -44.443984   3.682890  Category01   \n",
       "\n",
       "      quant1     quant2       quant3  \n",
       "0   1.933239   6.052785  6105.123120  \n",
       "10  2.279198  14.212963   603.250919  \n",
       "11  2.313199  -9.623635  7044.723136  \n",
       "36  2.958818  -6.392447  5285.971992  \n",
       "37  0.790112  -8.476905  5635.925674  "
      ]
     },
     "execution_count": 44,
     "metadata": {},
     "output_type": "execute_result"
    }
   ],
   "source": [
    "cat1data.head()"
   ]
  },
  {
   "cell_type": "code",
   "execution_count": 58,
   "metadata": {
    "collapsed": false
   },
   "outputs": [
    {
     "data": {
      "image/png": "[encoded data removed]",
      "text/plain": [
       "<matplotlib.figure.Figure at 0x7f8e38f0e518>"
      ]
     },
     "metadata": {},
     "output_type": "display_data"
    }
   ],
   "source": [
    "cat1data.boxplot(column=\"quant1\")\n",
    "cat2data.boxplot(column=\"quant1\")\n",
    "cat3data.boxplot(column=\"quant1\")\n",
    "cat4data.boxplot(column=\"quant1\")\n",
    "cat5data.boxplot(column=\"quant1\")\n",
    "plt.title(\"Distribution of quant1 values for different categories\")\n",
    "plt.show()"
   ]
  },
  {
   "cell_type": "code",
   "execution_count": 59,
   "metadata": {
    "collapsed": false
   },
   "outputs": [
    {
     "data": {
      "image/png": "[encoded data removed]",
      "text/plain": [
       "<matplotlib.figure.Figure at 0x7f8dc5ea1ac8>"
      ]
     },
     "metadata": {},
     "output_type": "display_data"
    }
   ],
   "source": [
    "cat1data.boxplot(column=\"quant2\")\n",
    "cat2data.boxplot(column=\"quant2\")\n",
    "cat3data.boxplot(column=\"quant2\")\n",
    "cat4data.boxplot(column=\"quant2\")\n",
    "cat5data.boxplot(column=\"quant2\")\n",
    "plt.title(\"Distribution of quant2 values for different categories\")\n",
    "plt.show()"
   ]
  },
  {
   "cell_type": "code",
   "execution_count": 60,
   "metadata": {
    "collapsed": false
   },
   "outputs": [
    {
     "data": {
      "image/png": "[encoded data removed]",
      "text/plain": [
       "<matplotlib.figure.Figure at 0x7f8dc74c9be0>"
      ]
     },
     "metadata": {},
     "output_type": "display_data"
    }
   ],
   "source": [
    "cat1data.boxplot(column=\"quant3\")\n",
    "cat2data.boxplot(column=\"quant3\")\n",
    "cat3data.boxplot(column=\"quant3\")\n",
    "cat4data.boxplot(column=\"quant3\")\n",
    "cat5data.boxplot(column=\"quant3\")\n",
    "plt.title(\"Distribution of quant3 values for different categories\")\n",
    "plt.show()"
   ]
  },
  {
   "cell_type": "code",
   "execution_count": null,
   "metadata": {
    "collapsed": true
   },
   "outputs": [],
   "source": []
  }
 ],
 "metadata": {
  "kernelspec": {
   "display_name": "Python 3",
   "language": "python",
   "name": "python3"
  },
  "language_info": {
   "codemirror_mode": {
    "name": "ipython",
    "version": 3
   },
   "file_extension": ".py",
   "mimetype": "text/x-python",
   "name": "python",
   "nbconvert_exporter": "python",
   "pygments_lexer": "ipython3",
   "version": "3.5.2"
  }
 },
 "nbformat": 4,
 "nbformat_minor": 2
}
